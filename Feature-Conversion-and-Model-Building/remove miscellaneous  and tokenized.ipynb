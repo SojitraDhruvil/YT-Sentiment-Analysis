{
 "cells": [
  {
   "cell_type": "code",
   "execution_count": 2,
   "id": "1f9e796d-9ff3-4de3-99e0-1961fe66cc74",
   "metadata": {},
   "outputs": [],
   "source": [
    "  import pandas as pd\n"
   ]
  },
  {
   "cell_type": "code",
   "execution_count": 5,
   "id": "a878291b-11c7-4c0a-94e2-fab965c20b7a",
   "metadata": {},
   "outputs": [],
   "source": [
    "df = pd.read_csv('New_Merge_Data_Comment.csv')\n"
   ]
  },
  {
   "cell_type": "code",
   "execution_count": 14,
   "id": "e31a52ac-a6e2-464d-8257-bd5e32afc993",
   "metadata": {},
   "outputs": [],
   "source": [
    "df = df[df['Class'] != 'Miscellaneous']\n"
   ]
  },
  {
   "cell_type": "code",
   "execution_count": 16,
   "id": "ff47da13-71a4-4f97-90d4-58d853fa4006",
   "metadata": {},
   "outputs": [
    {
     "data": {
      "text/html": [
       "<div>\n",
       "<style scoped>\n",
       "    .dataframe tbody tr th:only-of-type {\n",
       "        vertical-align: middle;\n",
       "    }\n",
       "\n",
       "    .dataframe tbody tr th {\n",
       "        vertical-align: top;\n",
       "    }\n",
       "\n",
       "    .dataframe thead th {\n",
       "        text-align: right;\n",
       "    }\n",
       "</style>\n",
       "<table border=\"1\" class=\"dataframe\">\n",
       "  <thead>\n",
       "    <tr style=\"text-align: right;\">\n",
       "      <th></th>\n",
       "      <th>VideoID</th>\n",
       "      <th>Comment</th>\n",
       "      <th>Class</th>\n",
       "    </tr>\n",
       "  </thead>\n",
       "  <tbody>\n",
       "    <tr>\n",
       "      <th>5</th>\n",
       "      <td>8mAITcNt710</td>\n",
       "      <td>poor man wear mask</td>\n",
       "      <td>Negative</td>\n",
       "    </tr>\n",
       "    <tr>\n",
       "      <th>6</th>\n",
       "      <td>8mAITcNt710</td>\n",
       "      <td>free dawg</td>\n",
       "      <td>Positive</td>\n",
       "    </tr>\n",
       "    <tr>\n",
       "      <th>9</th>\n",
       "      <td>8mAITcNt710</td>\n",
       "      <td>wow never knew would actually learn free onlin...</td>\n",
       "      <td>Positive</td>\n",
       "    </tr>\n",
       "    <tr>\n",
       "      <th>10</th>\n",
       "      <td>8mAITcNt710</td>\n",
       "      <td>insane free thing watch online</td>\n",
       "      <td>Positive</td>\n",
       "    </tr>\n",
       "    <tr>\n",
       "      <th>11</th>\n",
       "      <td>8mAITcNt710</td>\n",
       "      <td>theoretical course practical also start course...</td>\n",
       "      <td>Positive</td>\n",
       "    </tr>\n",
       "    <tr>\n",
       "      <th>...</th>\n",
       "      <td>...</td>\n",
       "      <td>...</td>\n",
       "      <td>...</td>\n",
       "    </tr>\n",
       "    <tr>\n",
       "      <th>190030</th>\n",
       "      <td>raos5cz4Fgc</td>\n",
       "      <td>family watching race live screaming like max c...</td>\n",
       "      <td>Imperative</td>\n",
       "    </tr>\n",
       "    <tr>\n",
       "      <th>190039</th>\n",
       "      <td>raos5cz4Fgc</td>\n",
       "      <td>love max oversteering last corner shows confid...</td>\n",
       "      <td>Positive</td>\n",
       "    </tr>\n",
       "    <tr>\n",
       "      <th>190045</th>\n",
       "      <td>raos5cz4Fgc</td>\n",
       "      <td>ok next years hope better</td>\n",
       "      <td>Positive</td>\n",
       "    </tr>\n",
       "    <tr>\n",
       "      <th>190053</th>\n",
       "      <td>raos5cz4Fgc</td>\n",
       "      <td>best moment whole life</td>\n",
       "      <td>Positive</td>\n",
       "    </tr>\n",
       "    <tr>\n",
       "      <th>190055</th>\n",
       "      <td>raos5cz4Fgc</td>\n",
       "      <td>got ta love seeing ham fanboys cry almost week...</td>\n",
       "      <td>Positive</td>\n",
       "    </tr>\n",
       "  </tbody>\n",
       "</table>\n",
       "<p>68718 rows × 3 columns</p>\n",
       "</div>"
      ],
      "text/plain": [
       "            VideoID                                            Comment  \\\n",
       "5       8mAITcNt710                                 poor man wear mask   \n",
       "6       8mAITcNt710                                          free dawg   \n",
       "9       8mAITcNt710  wow never knew would actually learn free onlin...   \n",
       "10      8mAITcNt710                     insane free thing watch online   \n",
       "11      8mAITcNt710  theoretical course practical also start course...   \n",
       "...             ...                                                ...   \n",
       "190030  raos5cz4Fgc  family watching race live screaming like max c...   \n",
       "190039  raos5cz4Fgc  love max oversteering last corner shows confid...   \n",
       "190045  raos5cz4Fgc                          ok next years hope better   \n",
       "190053  raos5cz4Fgc                             best moment whole life   \n",
       "190055  raos5cz4Fgc  got ta love seeing ham fanboys cry almost week...   \n",
       "\n",
       "             Class  \n",
       "5         Negative  \n",
       "6         Positive  \n",
       "9         Positive  \n",
       "10        Positive  \n",
       "11        Positive  \n",
       "...            ...  \n",
       "190030  Imperative  \n",
       "190039    Positive  \n",
       "190045    Positive  \n",
       "190053    Positive  \n",
       "190055    Positive  \n",
       "\n",
       "[68718 rows x 3 columns]"
      ]
     },
     "execution_count": 16,
     "metadata": {},
     "output_type": "execute_result"
    }
   ],
   "source": [
    "df"
   ]
  },
  {
   "cell_type": "code",
   "execution_count": 17,
   "id": "f699994d-c0c3-4747-add9-8a69fd8aa6dd",
   "metadata": {},
   "outputs": [],
   "source": [
    "df.to_csv('final.csv', index=False)\n"
   ]
  },
  {
   "cell_type": "code",
   "execution_count": 33,
   "id": "421e9d74-5c62-447b-ab65-4981f7b127e3",
   "metadata": {},
   "outputs": [],
   "source": [
    "tokenized = df['Comment'].apply(lambda x: x.split())\n"
   ]
  },
  {
   "cell_type": "code",
   "execution_count": 34,
   "id": "3fb30446-b3cb-49a9-b053-083cc42da26b",
   "metadata": {},
   "outputs": [
    {
     "data": {
      "text/plain": [
       "5                               [poor, man, wear, mask]\n",
       "6                                          [free, dawg]\n",
       "9     [wow, never, knew, would, actually, learn, fre...\n",
       "10                 [insane, free, thing, watch, online]\n",
       "11    [theoretical, course, practical, also, start, ...\n",
       "Name: Comment, dtype: object"
      ]
     },
     "execution_count": 34,
     "metadata": {},
     "output_type": "execute_result"
    }
   ],
   "source": [
    "tokenized.head()"
   ]
  },
  {
   "cell_type": "code",
   "execution_count": 35,
   "id": "c71307bc-a397-48b7-af00-61524b45d76a",
   "metadata": {},
   "outputs": [],
   "source": [
    "from nltk.stem import WordNetLemmatizer\n",
    "from nltk.corpus import stopwords"
   ]
  },
  {
   "cell_type": "code",
   "execution_count": 36,
   "id": "421ed3bf-606f-4795-afc6-2778dcf6df83",
   "metadata": {},
   "outputs": [
    {
     "name": "stderr",
     "output_type": "stream",
     "text": [
      "[nltk_data] Downloading package wordnet to\n",
      "[nltk_data]     C:\\Users\\dhruv\\AppData\\Roaming\\nltk_data...\n",
      "[nltk_data]   Package wordnet is already up-to-date!\n"
     ]
    },
    {
     "data": {
      "text/plain": [
       "True"
      ]
     },
     "execution_count": 36,
     "metadata": {},
     "output_type": "execute_result"
    }
   ],
   "source": [
    "import nltk\n",
    "nltk.download('wordnet')\n"
   ]
  },
  {
   "cell_type": "code",
   "execution_count": 37,
   "id": "7a89e574-993a-422c-a66d-c880a795d651",
   "metadata": {},
   "outputs": [],
   "source": [
    "wnl = WordNetLemmatizer()\n"
   ]
  },
  {
   "cell_type": "code",
   "execution_count": 38,
   "id": "5765fb57-7c8c-40ea-b062-ddb39b35ffae",
   "metadata": {},
   "outputs": [
    {
     "data": {
      "text/plain": [
       "5                               [poor, man, wear, mask]\n",
       "6                                          [free, dawg]\n",
       "9     [wow, never, knew, would, actually, learn, fre...\n",
       "10                 [insane, free, thing, watch, online]\n",
       "11    [theoretical, course, practical, also, start, ...\n",
       "Name: Comment, dtype: object"
      ]
     },
     "execution_count": 38,
     "metadata": {},
     "output_type": "execute_result"
    }
   ],
   "source": [
    "tokenized.apply(lambda x: [wnl.lemmatize(i) for i in x if i not in set(stopwords.words('english'))]) \n",
    "tokenized.head()\n"
   ]
  },
  {
   "cell_type": "code",
   "execution_count": 42,
   "id": "14ce189a-bf21-4536-8976-fbd09624b9be",
   "metadata": {},
   "outputs": [],
   "source": [
    "for i, tweet in tokenized.items():\n",
    "    tokenized[i] = ' '.join(tweet)\n"
   ]
  },
  {
   "cell_type": "code",
   "execution_count": 43,
   "id": "6f309a9f-91c9-4530-a195-4f412210b9b7",
   "metadata": {},
   "outputs": [
    {
     "data": {
      "text/plain": [
       "5                                        poor man wear mask\n",
       "6                                                 free dawg\n",
       "9         wow never knew would actually learn free onlin...\n",
       "10                           insane free thing watch online\n",
       "11        theoretical course practical also start course...\n",
       "                                ...                        \n",
       "190030    family watching race live screaming like max c...\n",
       "190039    love max oversteering last corner shows confid...\n",
       "190045                            ok next years hope better\n",
       "190053                               best moment whole life\n",
       "190055    got ta love seeing ham fanboys cry almost week...\n",
       "Name: Comment, Length: 68718, dtype: object"
      ]
     },
     "execution_count": 43,
     "metadata": {},
     "output_type": "execute_result"
    }
   ],
   "source": [
    "tokenized"
   ]
  },
  {
   "cell_type": "code",
   "execution_count": 46,
   "id": "dc9f06c9-2475-4353-a647-90be740b40de",
   "metadata": {},
   "outputs": [],
   "source": [
    "df.loc[:, 'Comment'] = tokenized\n"
   ]
  },
  {
   "cell_type": "code",
   "execution_count": 45,
   "id": "a1a4877f-3400-4449-a53b-f7e9d85b9562",
   "metadata": {},
   "outputs": [
    {
     "data": {
      "text/html": [
       "<div>\n",
       "<style scoped>\n",
       "    .dataframe tbody tr th:only-of-type {\n",
       "        vertical-align: middle;\n",
       "    }\n",
       "\n",
       "    .dataframe tbody tr th {\n",
       "        vertical-align: top;\n",
       "    }\n",
       "\n",
       "    .dataframe thead th {\n",
       "        text-align: right;\n",
       "    }\n",
       "</style>\n",
       "<table border=\"1\" class=\"dataframe\">\n",
       "  <thead>\n",
       "    <tr style=\"text-align: right;\">\n",
       "      <th></th>\n",
       "      <th>VideoID</th>\n",
       "      <th>Comment</th>\n",
       "      <th>Class</th>\n",
       "    </tr>\n",
       "  </thead>\n",
       "  <tbody>\n",
       "    <tr>\n",
       "      <th>5</th>\n",
       "      <td>8mAITcNt710</td>\n",
       "      <td>poor man wear mask</td>\n",
       "      <td>Negative</td>\n",
       "    </tr>\n",
       "    <tr>\n",
       "      <th>6</th>\n",
       "      <td>8mAITcNt710</td>\n",
       "      <td>free dawg</td>\n",
       "      <td>Positive</td>\n",
       "    </tr>\n",
       "    <tr>\n",
       "      <th>9</th>\n",
       "      <td>8mAITcNt710</td>\n",
       "      <td>wow never knew would actually learn free onlin...</td>\n",
       "      <td>Positive</td>\n",
       "    </tr>\n",
       "    <tr>\n",
       "      <th>10</th>\n",
       "      <td>8mAITcNt710</td>\n",
       "      <td>insane free thing watch online</td>\n",
       "      <td>Positive</td>\n",
       "    </tr>\n",
       "    <tr>\n",
       "      <th>11</th>\n",
       "      <td>8mAITcNt710</td>\n",
       "      <td>theoretical course practical also start course...</td>\n",
       "      <td>Positive</td>\n",
       "    </tr>\n",
       "    <tr>\n",
       "      <th>...</th>\n",
       "      <td>...</td>\n",
       "      <td>...</td>\n",
       "      <td>...</td>\n",
       "    </tr>\n",
       "    <tr>\n",
       "      <th>190030</th>\n",
       "      <td>raos5cz4Fgc</td>\n",
       "      <td>family watching race live screaming like max c...</td>\n",
       "      <td>Imperative</td>\n",
       "    </tr>\n",
       "    <tr>\n",
       "      <th>190039</th>\n",
       "      <td>raos5cz4Fgc</td>\n",
       "      <td>love max oversteering last corner shows confid...</td>\n",
       "      <td>Positive</td>\n",
       "    </tr>\n",
       "    <tr>\n",
       "      <th>190045</th>\n",
       "      <td>raos5cz4Fgc</td>\n",
       "      <td>ok next years hope better</td>\n",
       "      <td>Positive</td>\n",
       "    </tr>\n",
       "    <tr>\n",
       "      <th>190053</th>\n",
       "      <td>raos5cz4Fgc</td>\n",
       "      <td>best moment whole life</td>\n",
       "      <td>Positive</td>\n",
       "    </tr>\n",
       "    <tr>\n",
       "      <th>190055</th>\n",
       "      <td>raos5cz4Fgc</td>\n",
       "      <td>got ta love seeing ham fanboys cry almost week...</td>\n",
       "      <td>Positive</td>\n",
       "    </tr>\n",
       "  </tbody>\n",
       "</table>\n",
       "<p>68718 rows × 3 columns</p>\n",
       "</div>"
      ],
      "text/plain": [
       "            VideoID                                            Comment  \\\n",
       "5       8mAITcNt710                                 poor man wear mask   \n",
       "6       8mAITcNt710                                          free dawg   \n",
       "9       8mAITcNt710  wow never knew would actually learn free onlin...   \n",
       "10      8mAITcNt710                     insane free thing watch online   \n",
       "11      8mAITcNt710  theoretical course practical also start course...   \n",
       "...             ...                                                ...   \n",
       "190030  raos5cz4Fgc  family watching race live screaming like max c...   \n",
       "190039  raos5cz4Fgc  love max oversteering last corner shows confid...   \n",
       "190045  raos5cz4Fgc                          ok next years hope better   \n",
       "190053  raos5cz4Fgc                             best moment whole life   \n",
       "190055  raos5cz4Fgc  got ta love seeing ham fanboys cry almost week...   \n",
       "\n",
       "             Class  \n",
       "5         Negative  \n",
       "6         Positive  \n",
       "9         Positive  \n",
       "10        Positive  \n",
       "11        Positive  \n",
       "...            ...  \n",
       "190030  Imperative  \n",
       "190039    Positive  \n",
       "190045    Positive  \n",
       "190053    Positive  \n",
       "190055    Positive  \n",
       "\n",
       "[68718 rows x 3 columns]"
      ]
     },
     "execution_count": 45,
     "metadata": {},
     "output_type": "execute_result"
    }
   ],
   "source": [
    "df\n"
   ]
  },
  {
   "cell_type": "code",
   "execution_count": 47,
   "id": "42944622-8591-4b21-9592-73a318728500",
   "metadata": {},
   "outputs": [],
   "source": [
    "df.to_csv('final_tokenized.csv', index=False)\n"
   ]
  },
  {
   "cell_type": "code",
   "execution_count": null,
   "id": "65964dfb-dae6-4e7e-bb8e-3556bce6711b",
   "metadata": {},
   "outputs": [],
   "source": []
  }
 ],
 "metadata": {
  "kernelspec": {
   "display_name": "Python 3 (ipykernel)",
   "language": "python",
   "name": "python3"
  },
  "language_info": {
   "codemirror_mode": {
    "name": "ipython",
    "version": 3
   },
   "file_extension": ".py",
   "mimetype": "text/x-python",
   "name": "python",
   "nbconvert_exporter": "python",
   "pygments_lexer": "ipython3",
   "version": "3.12.3"
  }
 },
 "nbformat": 4,
 "nbformat_minor": 5
}
